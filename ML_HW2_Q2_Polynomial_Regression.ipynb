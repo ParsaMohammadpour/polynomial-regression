{
  "nbformat": 4,
  "nbformat_minor": 0,
  "metadata": {
    "colab": {
      "provenance": [],
      "collapsed_sections": []
    },
    "kernelspec": {
      "name": "python3",
      "display_name": "Python 3"
    },
    "language_info": {
      "name": "python"
    }
  },
  "cells": [
    {
      "cell_type": "code",
      "execution_count": null,
      "metadata": {
        "colab": {
          "base_uri": "https://localhost:8080/"
        },
        "id": "JakwMe2RV5i7",
        "outputId": "70386b05-e3f5-4cc0-b46a-38648b98e052"
      },
      "outputs": [
        {
          "output_type": "stream",
          "name": "stdout",
          "text": [
            "Mounted at /content/drive\n"
          ]
        }
      ],
      "source": [
        "from google.colab import drive\n",
        "drive.mount('/content/drive')"
      ]
    },
    {
      "cell_type": "code",
      "source": [
        "import random\n",
        "import numpy as np\n",
        "import pandas as pd\n",
        "import matplotlib.pyplot as plt"
      ],
      "metadata": {
        "id": "96QTkc4tWEAw"
      },
      "execution_count": 2,
      "outputs": []
    },
    {
      "cell_type": "code",
      "source": [
        "# class Linear_Regression:\n",
        "#   def __init__(self, x, target, columns, learning_rate, epoch, non_numeric_columns, convert_to_vector):\n",
        "#     self.columns = columns\n",
        "#     self.x = x\n",
        "#     self.target = target\n",
        "#     self.learning_rate = learning_rate\n",
        "#     self.epoch = epoch\n",
        "#     self.non_numeric_columns = non_numeric_columns\n",
        "#     self.non_numeric_dic = {}\n",
        "#     self.convert_to_vector = convert_to_vector\n",
        "#     self.convert_to_vector_value = {}\n",
        "#     self.final_columns = self.columns.copy()\n",
        "\n",
        "#   def one_hot_encode(self, dictionary, values):\n",
        "#     for x in values:\n",
        "#         if x not in dictionary.keys():\n",
        "#             dictionary[x] = len(dictionary)\n",
        "\n",
        "#   def one_hot_decode(self, dictionary, key):\n",
        "#     if key in dictionary.keys():\n",
        "#         return dictionary[key]\n",
        "#     dictionary[key] = len(dictionary)\n",
        "#     return dictionary[key]\n",
        "\n",
        "#   def convert_to_numeric(self):\n",
        "#     for i in self.non_numeric_columns:\n",
        "#       dictionary = {}\n",
        "#       self.non_numeric_dic[i] = dictionary\n",
        "#       self.one_hot_encode(dictionary, self.x[i].values)\n",
        "#       self.x[i] = [self.one_hot_decode(dictionary, j) for j in self.x[i].values]\n",
        "\n",
        "#   def normalize(self):\n",
        "#     self.normalize_dictionary = {}\n",
        "#     for i in self.final_columns:\n",
        "#       if i in self.convert_to_vector:\n",
        "#         continue\n",
        "#       mean = np.mean(self.x[i])\n",
        "#       var = np.var(self.x[i])\n",
        "#       self.x[i] = (self.x[i] - mean) / var\n",
        "#       self.normalize_dictionary[i] = {'mean':mean, 'var':var}\n",
        "  \n",
        "#   def gradian_function(self, predict, w, x_vector):\n",
        "#     return np.dot(predict - self.target, x_vector) / len(x_vector)\n",
        "\n",
        "#   def cost_function_simplified(self, predicts):\n",
        "#     return np.sum((predicts - self.target) ** 2) / (2 * len(self.target))\n",
        "\n",
        "#   def convert_columns_to_Vector(self):\n",
        "#     for i in self.convert_to_vector:\n",
        "#       if i in self.final_columns:\n",
        "#         self.convert_to_vector_value[i] = self.x[i].nunique()\n",
        "#         self.final_columns.remove(i)\n",
        "#       count = self.convert_to_vector_value[i]\n",
        "#       for j in range(count):\n",
        "#         self.final_columns.append(i + str(j))\n",
        "#         self.x[i + str(j)] = np.where(self.x[i] == j, 1, 0)\n",
        "\n",
        "#   def LR_GD(self):\n",
        "#     self.convert_to_numeric()\n",
        "#     self.normalize()\n",
        "#     self.convert_columns_to_Vector()\n",
        "#     x_vector = self.x.loc[:, self.final_columns].to_numpy()\n",
        "#     # Adding A New Column With Value 1, Just To Set The Bias Along Side With W\n",
        "#     bias = np.ones(len(self.x))\n",
        "#     x_vector = np.c_[x_vector, bias]\n",
        "#     w = [random.random() for x in range(len(self.final_columns) + 1)]\n",
        "#     # w = [random.random() for x in range(len(columns))]\n",
        "#     # w.append(np.mean(self.target))\n",
        "#     predict = np.dot(x_vector, w)\n",
        "#     costs = []\n",
        "#     cost = self.cost_function_simplified(predict)\n",
        "#     costs.append(cost)\n",
        "#     for i in range(self.epoch):\n",
        "#       gradian = self.gradian_function(predict, w, x_vector)\n",
        "#       w = w - (self.learning_rate * gradian)\n",
        "#       predict = np.dot(x_vector, w)\n",
        "#       predict = np.array(predict)\n",
        "#       cost = self.cost_function_simplified(predict)\n",
        "#       costs.append(cost)\n",
        "#     plt.plot([i for i in range(len(costs))], costs)\n",
        "#     plt.xlabel('Test Number')\n",
        "#     plt.ylabel('Cost Function')\n",
        "#     plt.title('Cost-Function-Result')\n",
        "#     plt.savefig(\"Cost-Function-Image.png\")\n",
        "#     plt.show()\n",
        "#     return w\n",
        "\n",
        "#   def test(self, x_vector, target, w, show_plot = True, path = ''):\n",
        "#     for col in self.non_numeric_columns:\n",
        "#       dic = self.non_numeric_dic[col]\n",
        "#       x_vector[col] = [self.one_hot_decode(dic, i) for i in x_vector[col].values]\n",
        "\n",
        "#     for col in self.columns:\n",
        "#       if col in self.convert_to_vector:\n",
        "#         continue\n",
        "#       dic = self.normalize_dictionary[col]\n",
        "#       x_vector[col] = [(i - dic['mean']) / dic['var'] for i in x_vector[col]]\n",
        "\n",
        "#     for i in self.convert_to_vector:\n",
        "#       count = self.convert_to_vector_value[i]\n",
        "#       for j in range(count):\n",
        "#         x_vector[i + str(j)] = np.where(x_vector[i] == j, 1, 0)\n",
        "\n",
        "#     x_matrix = x_vector.loc[:, self.final_columns].to_numpy()\n",
        "#     bias_matrix = np.ones(len(x_vector))\n",
        "#     x_matrix = np.c_[x_matrix, bias_matrix]\n",
        "#     predict = np.absolute(np.dot(x_matrix, w))\n",
        "#     if not show_plot:\n",
        "#       df = pd.read_csv('/content/drive/MyDrive/ML_HW2_Q1/test.csv')\n",
        "#       df['Price'] = predict\n",
        "#       df.loc[:,['Price', 'CarId']].to_csv('/content/predict.csv', index = False)\n",
        "#       return\n",
        "#     plt.plot([x for x in range(len(target))], np.array(target), color='b')\n",
        "#     plt.plot([x for x in range(len(predict))], np.array(predict), color='r')\n",
        "#     plt.savefig('Test.png')\n",
        "#     plt.show()\n",
        "#     mins = [min(target), min(predict)]\n",
        "#     maxs = [max(target), max(predict)]\n",
        "#     plt.plot([min(mins), max(maxs)], [min(mins), max(maxs)])\n",
        "#     plt.scatter(predict, target)\n",
        "#     plt.xlabel('Predicted Price')\n",
        "#     plt.ylabel('Price')\n",
        "#     plt.savefig('Professional-Result.png')\n",
        "#     plt.show()"
      ],
      "metadata": {
        "id": "ZxPuEl57WGcX"
      },
      "execution_count": null,
      "outputs": []
    },
    {
      "cell_type": "code",
      "source": [
        "class Polynomial_Regression:\n",
        "  def __init__(self, train, target, dimensions, learning_rate, epoch):\n",
        "    self.train = train.to_numpy()\n",
        "    self.target = target.to_numpy()\n",
        "    self.dimensions = dimensions\n",
        "    self.learning_rate = learning_rate\n",
        "    self.epoch = epoch\n",
        "  \n",
        "  def normalize(self):\n",
        "    self.mean = np.mean(self.train)\n",
        "    self.var = np.var(self.train)\n",
        "    self.x = (self.train - self.mean) / self.var\n",
        "    self.x = np.array([(np.array(self.x) ** x) for x in self.dimensions])\n",
        "    self.x = np.transpose(self.x)\n",
        "\n",
        "  def gradian_function(self, predict, w):\n",
        "    return np.dot(predict - self.target, self.x) / len(self.x)\n",
        "\n",
        "  def cost_function_simplified(self, predicts):\n",
        "    return np.sum((predicts - self.target) ** 2) / (2 * len(self.target))\n",
        "\n",
        "  def PR_GD(self):\n",
        "    self.normalize()\n",
        "    print('self.x[0]:')\n",
        "    print(self.x[0])\n",
        "    w = np.array([abs(random.random()) for x in self.dimensions])\n",
        "    predict = np.dot(self.x, w)\n",
        "    costs = []\n",
        "    cost = self.cost_function_simplified(predict)\n",
        "    costs.append(cost)\n",
        "    for i in range(self.epoch):\n",
        "      gradian = self.gradian_function(predict, w)\n",
        "      w = w - (self.learning_rate * gradian)\n",
        "      predict = np.dot(self.x, w)\n",
        "      cost = self.cost_function_simplified(predict)\n",
        "      costs.append(cost)\n",
        "    plt.plot([i for i in range(len(costs))], costs)\n",
        "    plt.xlabel('Test Number')\n",
        "    plt.ylabel('Cost Function')\n",
        "    plt.title('Cost-Function-Result')\n",
        "    plt.savefig(\"Cost-Function-Image.png\")\n",
        "    plt.show()\n",
        "    return w\n",
        "  \n",
        "  def test(self, w, test, correct):\n",
        "    test = np.array((test - self.mean) / self.var)\n",
        "    test = np.array([(test ** x) for x in self.dimensions])\n",
        "    test = np.transpose(test)\n",
        "    predict = np.dot(test, w)\n",
        "    print('Predict:')\n",
        "    print(predict)\n",
        "    plt.plot([x for x in range(len(correct))], np.array(correct), color='b')\n",
        "    plt.plot([x for x in range(len(predict))], np.array(predict), color='r')\n",
        "    # dff = pd.read_csv('/content/drive/MyDrive/ML_HW2_Q2/data.csv')\n",
        "    # lable = dff.iloc[len(dff) - 100:, :]\n",
        "    # lable = np.array(lable['Mileage'])\n",
        "    # plt.scatter(lable, np.array(correct), color='b')\n",
        "    # plt.scatter(lable, np.array(predict), color='r')\n",
        "    plt.savefig('Test.png')\n",
        "    plt.show()\n",
        "    mins = [min(correct), min(predict)]\n",
        "    maxs = [max(correct), max(predict)]\n",
        "    plt.plot([min(mins), max(maxs)], [min(mins), max(maxs)])\n",
        "    plt.scatter(predict, correct)\n",
        "    plt.xlabel('Mileage')\n",
        "    plt.ylabel('Price')\n",
        "    plt.savefig('Professional-Result.png')\n",
        "    plt.show()"
      ],
      "metadata": {
        "id": "Oi550AVjoApE"
      },
      "execution_count": 82,
      "outputs": []
    },
    {
      "cell_type": "code",
      "source": [
        "df = pd.read_csv('/content/drive/MyDrive/ML_HW2_Q2/data.csv')\n",
        "train_limit_number = len(df) - 100\n",
        "test = df.iloc[train_limit_number:, :]\n",
        "df = df.iloc[:train_limit_number, :]\n",
        "dimensions = [0, 1, 2, 3]\n",
        "# dimensions = [0, 1]\n",
        "train = df['Mileage']\n",
        "target = df['Price']\n",
        "learning_rate = 0.0003\n",
        "epoch = 10000\n",
        "pr = Polynomial_Regression(train, target, dimensions, learning_rate, epoch)\n",
        "weights = pr.PR_GD()\n",
        "print(weights)\n",
        "pr.test(weights, test['Mileage'].to_numpy(), test['Price'].to_numpy())"
      ],
      "metadata": {
        "colab": {
          "base_uri": "https://localhost:8080/",
          "height": 1000
        },
        "id": "nCQzQV0-kcIa",
        "outputId": "dc64da8c-f9c2-4d6a-ce4d-d48da280dcee"
      },
      "execution_count": 83,
      "outputs": [
        {
          "output_type": "stream",
          "name": "stdout",
          "text": [
            "self.x[0]:\n",
            "[ 1.00000000e+00 -2.09031554e-05  4.36941904e-10 -9.13346451e-15]\n"
          ]
        },
        {
          "output_type": "display_data",
          "data": {
            "text/plain": [
              "<Figure size 432x288 with 1 Axes>"
            ],
            "image/png": "[encoded data removed]"
          },
          "metadata": {
            "needs_background": "light"
          }
        },
        {
          "output_type": "stream",
          "name": "stdout",
          "text": [
            "[ 2.80524229e+04 -2.02609615e-01  3.48663416e-01  4.50278198e-01]\n",
            "Predict:\n",
            "[28052.42289074 28052.42288991 28052.4228899  28052.42289243\n",
            " 28052.42288966 28052.42288984 28052.42288465 28052.42288952\n",
            " 28052.42288736 28052.42289233 28052.42289258 28052.42288193\n",
            " 28052.42288677 28052.42288721 28052.42289159 28052.42287957\n",
            " 28052.42289025 28052.42289169 28052.42289171 28052.42289163\n",
            " 28052.42289193 28052.42289085 28052.42289324 28052.42289057\n",
            " 28052.42289157 28052.42289272 28052.42289001 28052.42289291\n",
            " 28052.42288988 28052.42289255 28052.42288634 28052.42289155\n",
            " 28052.42288929 28052.42288983 28052.42289268 28052.42288458\n",
            " 28052.42288959 28052.42288279 28052.42288713 28052.42288971\n",
            " 28052.42289047 28052.42288625 28052.42288504 28052.42289204\n",
            " 28052.42289204 28052.42289139 28052.42288966 28052.42289098\n",
            " 28052.42289173 28052.42289111 28052.4228833  28052.42288208\n",
            " 28052.42289022 28052.42289351 28052.42288516 28052.42288336\n",
            " 28052.4228908  28052.42288913 28052.42289127 28052.42289073\n",
            " 28052.42288998 28052.4228824  28052.42289188 28052.42288984\n",
            " 28052.42289    28052.42289289 28052.42289106 28052.42289021\n",
            " 28052.42289098 28052.42288948 28052.42289038 28052.42289072\n",
            " 28052.42289057 28052.42288816 28052.42289014 28052.42288832\n",
            " 28052.42288883 28052.42289058 28052.42289136 28052.42289054\n",
            " 28052.42288676 28052.4228899  28052.42289112 28052.4228836\n",
            " 28052.42287911 28052.42289245 28052.42289288 28052.42289201\n",
            " 28052.42288582 28052.42289124 28052.42287919 28052.42288964\n",
            " 28052.4228905  28052.42289067 28052.42288879 28052.42288874\n",
            " 28052.42289189 28052.42288723 28052.42288329 28052.42288886]\n"
          ]
        },
        {
          "output_type": "display_data",
          "data": {
            "text/plain": [
              "<Figure size 432x288 with 1 Axes>"
            ],
            "image/png": "[encoded data removed]"
          },
          "metadata": {
            "needs_background": "light"
          }
        },
        {
          "output_type": "display_data",
          "data": {
            "text/plain": [
              "<Figure size 432x288 with 1 Axes>"
            ],
            "image/png": "[encoded data removed]"
          },
          "metadata": {
            "needs_background": "light"
          }
        }
      ]
    }
  ]
}